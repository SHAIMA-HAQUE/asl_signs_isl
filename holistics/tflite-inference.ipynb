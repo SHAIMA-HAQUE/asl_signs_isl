{
 "cells": [
  {
   "cell_type": "code",
   "execution_count": null,
   "id": "e84d8558-8910-4b10-943f-21aa6012fb52",
   "metadata": {},
   "outputs": [],
   "source": [
    "# RUN TFLITE INFERENCE ON AN EXAMPLE DATASET"
   ]
  },
  {
   "cell_type": "code",
   "execution_count": null,
   "id": "90fa5678-b17f-402d-bca3-afc19f6ce80f",
   "metadata": {},
   "outputs": [],
   "source": [
    "!pip install tflite-runtime"
   ]
  },
  {
   "cell_type": "code",
   "execution_count": null,
   "id": "ac45ac9d-94aa-40d4-88c0-10838d066fc1",
   "metadata": {},
   "outputs": [],
   "source": [
    "!pip3 install --extra-index-url https://google-coral.github.io/py-repo/ tflite_runtime"
   ]
  },
  {
   "cell_type": "code",
   "execution_count": null,
   "id": "9b230dfb-d629-459d-ac64-447b4d2b4a5e",
   "metadata": {},
   "outputs": [],
   "source": []
  },
  {
   "cell_type": "code",
   "execution_count": 1,
   "id": "8defd3bf-e094-4a79-8018-f85d7826061a",
   "metadata": {},
   "outputs": [],
   "source": [
    "import pandas as pd\n",
    "import numpy as np\n",
    "\n",
    "\n",
    "ROWS_PER_FRAME = 543 #no of landmarks per frame\n",
    "\n",
    "def load_relevant_data_subset(pq_file):\n",
    "    data_columns = ['x','y','z']\n",
    "    data = pd.read_parquet(pq_file, columns = data_columns)\n",
    "    n_frames = int(len(data) /ROWS_PER_FRAME)\n",
    "    print(len(data))\n",
    "    data = data.values.reshape(n_frames, ROWS_PER_FRAME, len(data_columns))\n",
    "    print(n_frames)\n",
    "    return data.astype(np.float32)"
   ]
  },
  {
   "cell_type": "code",
   "execution_count": 2,
   "id": "0ddfcad8-dc4a-4973-ad5f-2deb4ca61013",
   "metadata": {},
   "outputs": [],
   "source": [
    "#load in tflite model\n",
    "import tensorflow as tf\n",
    "# import tflite_runtime.interpreter as tflite\n",
    "\n",
    "interpreter = tf.lite.Interpreter(model_path=\"./model.tflite\")\n",
    "interpreter.allocate_tensors()\n",
    "# interpreter = tflite.Interpreter(\"./model.tflite\")\n",
    "found_signatures = list(interpreter.get_signature_list().keys())\n",
    "prediction_fn = interpreter.get_signature_runner(\"serving_default\")\n",
    "\n",
    "# output = prediction_fn(inputs=demo_raw_data)\n",
    "# sign = output['outputs'].argmax()"
   ]
  },
  {
   "cell_type": "code",
   "execution_count": 4,
   "id": "f0879483-3c10-4224-9ab4-6cfcb9430a0b",
   "metadata": {},
   "outputs": [
    {
     "name": "stdout",
     "output_type": "stream",
     "text": [
      "10860\n",
      "20\n",
      "[0.00136816 0.00123209 0.00285699 0.00425927 0.00246963 0.00188843\n",
      " 0.00201443 0.0015669  0.00433541 0.00288039 0.00195571 0.00148852\n",
      " 0.00337814 0.00733181 0.00261543 0.00212885 0.00190779 0.03089553\n",
      " 0.0066126  0.0016906  0.00393243 0.00182378 0.00346618 0.00225523\n",
      " 0.0031589  0.00224078 0.01500261 0.00075181 0.0044936  0.01609512\n",
      " 0.00151842 0.02095075 0.00234253 0.00085169 0.00304423 0.00341299\n",
      " 0.00341685 0.00171457 0.00177249 0.00361401 0.00501855 0.00210719\n",
      " 0.00082132 0.00126179 0.00173155 0.00105947 0.00247779 0.00468469\n",
      " 0.00347434 0.00778623 0.00316574 0.01161564 0.00203883 0.00232705\n",
      " 0.00294234 0.00195887 0.00127393 0.00445315 0.0104315  0.00632062\n",
      " 0.00334321 0.00208569 0.00338903 0.00571801 0.00084072 0.00262323\n",
      " 0.00350158 0.00408443 0.00073001 0.00052098 0.00530435 0.00307587\n",
      " 0.00256951 0.00142762 0.005033   0.00666718 0.00350229 0.00570196\n",
      " 0.00313306 0.00297717 0.00106001 0.00313021 0.02729697 0.00290652\n",
      " 0.00368032 0.00075568 0.00446002 0.00165889 0.00251834 0.00137808\n",
      " 0.00185796 0.00782372 0.0015228  0.00457073 0.00248353 0.00107144\n",
      " 0.00378383 0.0026312  0.00253162 0.00294773 0.00055132 0.00155704\n",
      " 0.00084042 0.00183251 0.00451631 0.00252322 0.01060135 0.00222352\n",
      " 0.00260866 0.00098888 0.00477533 0.00211134 0.0068871  0.0392185\n",
      " 0.00328531 0.00254265 0.0018087  0.0047142  0.00292837 0.00264289\n",
      " 0.00699862 0.00348656 0.00250705 0.00273655 0.00023972 0.00756624\n",
      " 0.00074841 0.00078735 0.00266235 0.00207668 0.0069421  0.0022285\n",
      " 0.00373253 0.01189513 0.0055714  0.00108798 0.00257151 0.00475065\n",
      " 0.00277619 0.00322639 0.02388222 0.00271246 0.00712994 0.00209943\n",
      " 0.00083829 0.00397263 0.0037664  0.00331166 0.00262797 0.00154638\n",
      " 0.00202238 0.00177603 0.00372317 0.00253393 0.00420103 0.00217336\n",
      " 0.00395203 0.00146211 0.00507601 0.00360162 0.00860743 0.00374683\n",
      " 0.00198973 0.00429709 0.00076516 0.00463765 0.00105316 0.00206566\n",
      " 0.00124559 0.00325163 0.00330971 0.00215969 0.0021897  0.00089128\n",
      " 0.00080384 0.00392144 0.00155797 0.00765518 0.00136162 0.0034636\n",
      " 0.00281233 0.002556   0.00156718 0.00033071 0.00422461 0.00277009\n",
      " 0.0028127  0.00278652 0.00340993 0.00633073 0.00359281 0.0031874\n",
      " 0.00368522 0.00383343 0.0037402  0.00240139 0.00148615 0.00233318\n",
      " 0.00264041 0.00836676 0.00118658 0.00484652 0.00701888 0.02414842\n",
      " 0.00188481 0.00760942 0.00109015 0.00206918 0.00747946 0.00210929\n",
      " 0.00363276 0.00394947 0.00709814 0.00222354 0.00350998 0.00134812\n",
      " 0.00079442 0.00552376 0.00159651 0.00284249 0.0010316  0.00367029\n",
      " 0.00302908 0.00199832 0.00484588 0.0005289  0.00181891 0.02442424\n",
      " 0.00343206 0.00174212 0.00266091 0.00934552 0.00567797 0.00128057\n",
      " 0.00223395 0.00203222 0.00147362 0.00198815 0.00093439 0.0015903\n",
      " 0.00874313 0.01405171 0.00336076 0.00367908 0.002986   0.00496007\n",
      " 0.00152771 0.00342035 0.0038158  0.00176939]\n"
     ]
    }
   ],
   "source": [
    "train = pd.read_csv('../train_new_csv.csv')\n",
    "train['sign_ord'] = train['sign'].astype('category').cat.codes\n",
    "# print(train['sign_ord'])\n",
    "#dictionaries to translate sign <-> ordinal encoded sign\n",
    "SIGN2ORD = train[['sign', 'sign_ord']].set_index('sign').squeeze().to_dict()\n",
    "ORD2SIGN = train[['sign_ord', 'sign']].set_index('sign_ord').squeeze().to_dict()\n",
    "\n",
    "pq_file = './output.parquet'\n",
    "xyz_np = load_relevant_data_subset(pq_file)\n",
    "prediction = prediction_fn(inputs = xyz_np)\n",
    "sign = prediction['outputs'].argmax() \n",
    "print(prediction['outputs'])\n",
    "# print(sign)\n",
    "\n"
   ]
  },
  {
   "cell_type": "code",
   "execution_count": 5,
   "id": "e238a880-58c4-43d3-b0bc-a84b6c7c20cc",
   "metadata": {},
   "outputs": [
    {
     "data": {
      "text/plain": [
       "1"
      ]
     },
     "execution_count": 5,
     "metadata": {},
     "output_type": "execute_result"
    }
   ],
   "source": [
    "train['sign_ord'].max()"
   ]
  },
  {
   "cell_type": "code",
   "execution_count": 6,
   "id": "32fb15f0-63e7-49a6-9e01-c77d21e8a9fb",
   "metadata": {},
   "outputs": [
    {
     "name": "stdout",
     "output_type": "stream",
     "text": [
      "{1: 'thankyou', 0: 'hello'}\n"
     ]
    }
   ],
   "source": [
    "print(ORD2SIGN)"
   ]
  },
  {
   "cell_type": "code",
   "execution_count": 7,
   "id": "32e48bb0-893d-44c9-ad6c-51257f0188f3",
   "metadata": {},
   "outputs": [],
   "source": [
    "if (sign==113):\n",
    "    sign = 0\n",
    "elif(sign==214):\n",
    "    sign = 1"
   ]
  },
  {
   "cell_type": "code",
   "execution_count": 8,
   "id": "ad3114ac-082a-4cfa-850d-c275368d0446",
   "metadata": {},
   "outputs": [
    {
     "data": {
      "text/plain": [
       "'hello'"
      ]
     },
     "execution_count": 8,
     "metadata": {},
     "output_type": "execute_result"
    }
   ],
   "source": [
    "ORD2SIGN[sign]"
   ]
  },
  {
   "cell_type": "code",
   "execution_count": 17,
   "id": "e75f7a3f-04be-4975-917c-41edf791289c",
   "metadata": {},
   "outputs": [
    {
     "data": {
      "text/plain": [
       "{'outputs': array([1.3063436e-03, 1.2468476e-03, 1.0713328e-03, 2.4337666e-03,\n",
       "        1.2293204e-03, 1.3713734e-03, 6.7790766e-04, 1.8261095e-03,\n",
       "        7.8885333e-04, 1.2953996e-03, 1.7443073e-03, 9.3403534e-04,\n",
       "        1.6086806e-03, 1.0538215e-03, 9.7114488e-04, 1.2677652e-03,\n",
       "        8.0163020e-04, 5.4352864e-04, 4.7006086e-03, 4.2484724e-04,\n",
       "        6.2008220e-04, 9.1068284e-04, 1.0841419e-03, 8.8719133e-04,\n",
       "        9.9764974e-04, 1.1498729e-03, 7.7999276e-03, 1.3455490e-03,\n",
       "        4.8511746e-04, 7.5630023e-04, 1.4482553e-03, 2.2237257e-03,\n",
       "        1.5848123e-03, 4.8301075e-04, 1.1672024e-03, 1.0001428e-03,\n",
       "        1.6609222e-03, 7.1059901e-04, 8.8350201e-04, 7.5023796e-04,\n",
       "        9.6128864e-04, 9.8941685e-04, 7.4675481e-04, 1.3333830e-03,\n",
       "        1.5444556e-03, 1.4942626e-03, 3.2501994e-03, 1.8264805e-03,\n",
       "        5.1988335e-04, 1.1320129e-03, 1.7160568e-03, 1.0762940e-03,\n",
       "        1.1771065e-03, 9.2762208e-04, 1.8702872e-03, 7.9751370e-04,\n",
       "        1.0587076e-03, 1.1723117e-03, 1.0881972e-03, 1.4363634e-03,\n",
       "        1.2951859e-03, 8.0892013e-04, 1.6084206e-03, 7.1746425e-04,\n",
       "        9.6718670e-04, 7.1418309e-04, 1.1622872e-03, 1.0615222e-03,\n",
       "        7.8638887e-04, 7.6554925e-04, 9.6894964e-04, 1.3857719e-03,\n",
       "        8.1843510e-04, 8.3910761e-04, 9.2237734e-04, 1.9294256e-03,\n",
       "        9.0734957e-04, 1.8000921e-03, 7.0578523e-04, 1.4252583e-03,\n",
       "        1.5092482e-03, 8.5261225e-04, 6.2014011e-04, 9.7981375e-04,\n",
       "        1.4192015e-03, 9.1936422e-04, 7.8329089e-04, 1.7351646e-03,\n",
       "        8.9750637e-04, 1.1287809e-03, 1.2551841e-03, 1.0339386e-03,\n",
       "        1.8302407e-03, 1.0097665e-03, 1.2292765e-03, 7.3926058e-04,\n",
       "        7.8683824e-04, 7.6837000e-04, 9.5227908e-04, 4.6008668e-04,\n",
       "        6.5596966e-04, 1.0152645e-03, 9.0664724e-04, 7.3206419e-04,\n",
       "        6.9970696e-04, 1.1115245e-03, 1.0175502e-03, 7.9190271e-04,\n",
       "        2.1990805e-03, 4.1434073e-04, 1.1581236e-03, 5.5312034e-04,\n",
       "        4.4160630e-04, 7.1468461e-01, 1.2201295e-03, 1.4199367e-03,\n",
       "        1.3722421e-03, 1.4203647e-03, 1.0572849e-03, 2.0820715e-03,\n",
       "        1.1290646e-03, 9.2219701e-04, 8.3392649e-04, 1.1611112e-03,\n",
       "        5.9328729e-04, 1.6754934e-03, 1.4462195e-03, 7.3452014e-04,\n",
       "        1.0191823e-03, 7.6550362e-04, 1.9139269e-03, 1.1042828e-03,\n",
       "        8.2612637e-04, 1.2891353e-03, 9.7208819e-04, 1.7900440e-03,\n",
       "        1.0605033e-03, 8.3244062e-04, 1.1050656e-03, 1.4606870e-03,\n",
       "        4.7027113e-04, 1.1683016e-03, 1.1579458e-03, 9.2084665e-04,\n",
       "        6.5825856e-04, 1.2564649e-03, 9.0584083e-04, 1.3969472e-03,\n",
       "        1.6716421e-03, 1.1641702e-03, 9.3305559e-04, 9.3445275e-04,\n",
       "        9.5445709e-04, 1.1018249e-03, 4.5684705e-04, 1.0308874e-03,\n",
       "        1.2192316e-03, 9.0320164e-04, 7.9160440e-04, 1.6949235e-03,\n",
       "        1.1070929e-03, 2.0395352e-03, 1.3720628e-03, 5.1967119e-04,\n",
       "        7.5781497e-04, 7.0845505e-04, 1.8558521e-03, 1.3958284e-03,\n",
       "        1.2160412e-03, 5.8109820e-04, 8.5372728e-04, 7.3512387e-04,\n",
       "        9.6491294e-04, 6.4900477e-04, 9.9282525e-04, 1.2514046e-03,\n",
       "        9.4771787e-04, 1.5332904e-03, 2.3907952e-03, 8.5823017e-04,\n",
       "        1.1939814e-03, 7.3248206e-04, 1.0098309e-03, 9.7725587e-04,\n",
       "        7.8715157e-04, 1.0290579e-03, 1.2244799e-03, 1.2589603e-03,\n",
       "        1.0513847e-03, 1.3963024e-03, 1.0280123e-03, 1.8603184e-03,\n",
       "        9.3691115e-04, 1.1506276e-03, 1.0460321e-03, 9.8637282e-04,\n",
       "        9.7818871e-04, 9.5252384e-04, 8.2808139e-04, 6.6578324e-04,\n",
       "        1.5093792e-03, 1.0025980e-03, 1.5219713e-03, 8.1400294e-04,\n",
       "        9.8758563e-04, 1.1257068e-03, 1.0614701e-03, 4.9077452e-04,\n",
       "        8.2310423e-04, 1.1729832e-03, 5.8200769e-04, 7.0259225e-04,\n",
       "        5.1390298e-04, 1.1120404e-03, 9.2238747e-04, 1.3698036e-03,\n",
       "        4.3045290e-04, 7.4549468e-04, 1.0401143e-03, 1.1184959e-03,\n",
       "        9.3596318e-04, 7.9067377e-04, 8.2144368e-04, 6.1379647e-04,\n",
       "        1.1429169e-03, 5.9638952e-04, 1.0990255e-03, 8.9831720e-04,\n",
       "        1.1766071e-03, 1.6191237e-03, 8.9468702e-04, 2.0211367e-03,\n",
       "        6.3321920e-04, 7.0159126e-04, 7.8559917e-04, 1.0653542e-03,\n",
       "        1.4837014e-03, 8.1876380e-04, 1.8770631e-03, 8.6198491e-04,\n",
       "        8.5783290e-04, 3.9514387e-03, 1.3719954e-03, 7.6737005e-04,\n",
       "        1.3438691e-03, 1.1711713e-03, 1.3260660e-03, 7.6611451e-04,\n",
       "        8.4739499e-04, 1.6436632e-03], dtype=float32)}"
      ]
     },
     "execution_count": 17,
     "metadata": {},
     "output_type": "execute_result"
    }
   ],
   "source": [
    "prediction"
   ]
  },
  {
   "cell_type": "code",
   "execution_count": 20,
   "id": "a97a0fd7-5814-49fa-a08e-4af3d71a8331",
   "metadata": {},
   "outputs": [
    {
     "data": {
      "text/plain": [
       "(250,)"
      ]
     },
     "execution_count": 20,
     "metadata": {},
     "output_type": "execute_result"
    }
   ],
   "source": [
    "prediction['outputs'].shape"
   ]
  },
  {
   "cell_type": "code",
   "execution_count": 23,
   "id": "04ff6b42-aeed-43bb-bce3-736810733b5e",
   "metadata": {},
   "outputs": [
    {
     "data": {
      "text/plain": [
       "<Axes: >"
      ]
     },
     "execution_count": 23,
     "metadata": {},
     "output_type": "execute_result"
    },
    {
     "data": {
      "image/png": "[encoded data removed]",
      "text/plain": [
       "<Figure size 640x480 with 1 Axes>"
      ]
     },
     "metadata": {},
     "output_type": "display_data"
    }
   ],
   "source": [
    "pd.Series(prediction['outputs']).plot(kind='bar')"
   ]
  },
  {
   "cell_type": "code",
   "execution_count": null,
   "id": "31f3746a-55b7-4731-8f33-49593276be2e",
   "metadata": {},
   "outputs": [],
   "source": []
  }
 ],
 "metadata": {
  "kernelspec": {
   "display_name": "Python 3 (ipykernel)",
   "language": "python",
   "name": "python3"
  },
  "language_info": {
   "codemirror_mode": {
    "name": "ipython",
    "version": 3
   },
   "file_extension": ".py",
   "mimetype": "text/x-python",
   "name": "python",
   "nbconvert_exporter": "python",
   "pygments_lexer": "ipython3",
   "version": "3.9.5"
  }
 },
 "nbformat": 4,
 "nbformat_minor": 5
}
